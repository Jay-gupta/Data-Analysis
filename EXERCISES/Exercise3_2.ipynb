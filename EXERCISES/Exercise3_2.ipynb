{
 "cells": [
  {
   "cell_type": "markdown",
   "metadata": {},
   "source": [
    "# Occupation"
   ]
  },
  {
   "cell_type": "markdown",
   "metadata": {},
   "source": [
    "### Introduction:\n",
    "\n",
    "Special thanks to: https://github.com/justmarkham for sharing the dataset and materials.\n",
    "\n",
    "### Step 1. Import the necessary libraries"
   ]
  },
  {
   "cell_type": "code",
   "execution_count": 1,
   "metadata": {},
   "outputs": [],
   "source": [
    "import numpy as np\n",
    "import pandas as pd"
   ]
  },
  {
   "cell_type": "markdown",
   "metadata": {},
   "source": [
    "### Step 2. Import the dataset from this [address](https://raw.githubusercontent.com/justmarkham/DAT8/master/data/u.user). "
   ]
  },
  {
   "cell_type": "markdown",
   "metadata": {},
   "source": [
    "### Step 3. Assign it to a variable called users."
   ]
  },
  {
   "cell_type": "code",
   "execution_count": 5,
   "metadata": {},
   "outputs": [
    {
     "data": {
      "text/html": [
       "<div>\n",
       "<style scoped>\n",
       "    .dataframe tbody tr th:only-of-type {\n",
       "        vertical-align: middle;\n",
       "    }\n",
       "\n",
       "    .dataframe tbody tr th {\n",
       "        vertical-align: top;\n",
       "    }\n",
       "\n",
       "    .dataframe thead th {\n",
       "        text-align: right;\n",
       "    }\n",
       "</style>\n",
       "<table border=\"1\" class=\"dataframe\">\n",
       "  <thead>\n",
       "    <tr style=\"text-align: right;\">\n",
       "      <th></th>\n",
       "      <th>user_id</th>\n",
       "      <th>age</th>\n",
       "      <th>gender</th>\n",
       "      <th>occupation</th>\n",
       "      <th>zip_code</th>\n",
       "    </tr>\n",
       "  </thead>\n",
       "  <tbody>\n",
       "    <tr>\n",
       "      <th>0</th>\n",
       "      <td>1</td>\n",
       "      <td>24</td>\n",
       "      <td>M</td>\n",
       "      <td>technician</td>\n",
       "      <td>85711</td>\n",
       "    </tr>\n",
       "    <tr>\n",
       "      <th>1</th>\n",
       "      <td>2</td>\n",
       "      <td>53</td>\n",
       "      <td>F</td>\n",
       "      <td>other</td>\n",
       "      <td>94043</td>\n",
       "    </tr>\n",
       "    <tr>\n",
       "      <th>2</th>\n",
       "      <td>3</td>\n",
       "      <td>23</td>\n",
       "      <td>M</td>\n",
       "      <td>writer</td>\n",
       "      <td>32067</td>\n",
       "    </tr>\n",
       "    <tr>\n",
       "      <th>3</th>\n",
       "      <td>4</td>\n",
       "      <td>24</td>\n",
       "      <td>M</td>\n",
       "      <td>technician</td>\n",
       "      <td>43537</td>\n",
       "    </tr>\n",
       "    <tr>\n",
       "      <th>4</th>\n",
       "      <td>5</td>\n",
       "      <td>33</td>\n",
       "      <td>F</td>\n",
       "      <td>other</td>\n",
       "      <td>15213</td>\n",
       "    </tr>\n",
       "  </tbody>\n",
       "</table>\n",
       "</div>"
      ],
      "text/plain": [
       "   user_id  age gender  occupation zip_code\n",
       "0        1   24      M  technician    85711\n",
       "1        2   53      F       other    94043\n",
       "2        3   23      M      writer    32067\n",
       "3        4   24      M  technician    43537\n",
       "4        5   33      F       other    15213"
      ]
     },
     "execution_count": 5,
     "metadata": {},
     "output_type": "execute_result"
    }
   ],
   "source": [
    "users = pd.read_csv('u.user', sep = '|')\n",
    "users.head()"
   ]
  },
  {
   "cell_type": "markdown",
   "metadata": {},
   "source": [
    "### Step 4. Discover what is the mean age per occupation"
   ]
  },
  {
   "cell_type": "code",
   "execution_count": 8,
   "metadata": {},
   "outputs": [
    {
     "data": {
      "text/plain": [
       "occupation\n",
       "administrator    39.0\n",
       "artist           31.0\n",
       "doctor           44.0\n",
       "educator         42.0\n",
       "engineer         36.0\n",
       "entertainment    29.0\n",
       "executive        39.0\n",
       "healthcare       42.0\n",
       "homemaker        33.0\n",
       "lawyer           37.0\n",
       "librarian        40.0\n",
       "marketing        38.0\n",
       "none             27.0\n",
       "other            35.0\n",
       "programmer       33.0\n",
       "retired          63.0\n",
       "salesman         36.0\n",
       "scientist        36.0\n",
       "student          22.0\n",
       "technician       33.0\n",
       "writer           36.0\n",
       "Name: age, dtype: float64"
      ]
     },
     "execution_count": 8,
     "metadata": {},
     "output_type": "execute_result"
    }
   ],
   "source": [
    "users_group = users.groupby('occupation').mean()\n",
    "round(users_group['age'])"
   ]
  },
  {
   "cell_type": "markdown",
   "metadata": {},
   "source": [
    "### Step 5. Discover the Male ratio per occupation and sort it from the most to the least"
   ]
  },
  {
   "cell_type": "code",
   "execution_count": 14,
   "metadata": {},
   "outputs": [
    {
     "data": {
      "text/plain": [
       "student          136\n",
       "other             69\n",
       "educator          69\n",
       "engineer          65\n",
       "programmer        60\n",
       "administrator     43\n",
       "executive         29\n",
       "scientist         28\n",
       "writer            26\n",
       "technician        26\n",
       "librarian         22\n",
       "entertainment     16\n",
       "marketing         16\n",
       "artist            15\n",
       "retired           13\n",
       "lawyer            10\n",
       "salesman           9\n",
       "doctor             7\n",
       "none               5\n",
       "healthcare         5\n",
       "homemaker          1\n",
       "Name: occupation, dtype: int64"
      ]
     },
     "execution_count": 14,
     "metadata": {},
     "output_type": "execute_result"
    }
   ],
   "source": [
    "male_users = users[users['gender'] == 'M']\n",
    "male_users['occupation'].value_counts()\n",
    "#male_users_group = male_users.groupby('occupation').count()\n",
    "#male_users_group['count'] = male_users_group['user_id']\n",
    "#male_users_group['count']"
   ]
  },
  {
   "cell_type": "markdown",
   "metadata": {},
   "source": [
    "### Step 6. For each occupation, calculate the minimum and maximum ages"
   ]
  },
  {
   "cell_type": "code",
   "execution_count": 18,
   "metadata": {},
   "outputs": [
    {
     "data": {
      "text/plain": [
       "occupation\n",
       "administrator    21\n",
       "artist           19\n",
       "doctor           28\n",
       "educator         23\n",
       "engineer         22\n",
       "entertainment    15\n",
       "executive        22\n",
       "healthcare       22\n",
       "homemaker        20\n",
       "lawyer           21\n",
       "librarian        23\n",
       "marketing        24\n",
       "none             11\n",
       "other            13\n",
       "programmer       20\n",
       "retired          51\n",
       "salesman         18\n",
       "scientist        23\n",
       "student           7\n",
       "technician       21\n",
       "writer           18\n",
       "Name: age, dtype: int64"
      ]
     },
     "execution_count": 18,
     "metadata": {},
     "output_type": "execute_result"
    }
   ],
   "source": [
    "users_min = users.groupby('occupation').min()\n",
    "round(users_min['age'])"
   ]
  },
  {
   "cell_type": "code",
   "execution_count": 19,
   "metadata": {},
   "outputs": [
    {
     "data": {
      "text/plain": [
       "occupation\n",
       "administrator    70\n",
       "artist           48\n",
       "doctor           64\n",
       "educator         63\n",
       "engineer         70\n",
       "entertainment    50\n",
       "executive        69\n",
       "healthcare       62\n",
       "homemaker        50\n",
       "lawyer           53\n",
       "librarian        69\n",
       "marketing        55\n",
       "none             55\n",
       "other            64\n",
       "programmer       63\n",
       "retired          73\n",
       "salesman         66\n",
       "scientist        55\n",
       "student          42\n",
       "technician       55\n",
       "writer           60\n",
       "Name: age, dtype: int64"
      ]
     },
     "execution_count": 19,
     "metadata": {},
     "output_type": "execute_result"
    }
   ],
   "source": [
    "users_max = users.groupby('occupation').max()\n",
    "round(users_max['age'])"
   ]
  },
  {
   "cell_type": "markdown",
   "metadata": {},
   "source": [
    "### Step 7. For each combination of occupation and gender, calculate the mean age"
   ]
  },
  {
   "cell_type": "code",
   "execution_count": 21,
   "metadata": {},
   "outputs": [
    {
     "data": {
      "text/plain": [
       "occupation\n",
       "administrator    39.0\n",
       "artist           31.0\n",
       "doctor           44.0\n",
       "educator         42.0\n",
       "engineer         36.0\n",
       "entertainment    29.0\n",
       "executive        39.0\n",
       "healthcare       42.0\n",
       "homemaker        33.0\n",
       "lawyer           37.0\n",
       "librarian        40.0\n",
       "marketing        38.0\n",
       "none             27.0\n",
       "other            35.0\n",
       "programmer       33.0\n",
       "retired          63.0\n",
       "salesman         36.0\n",
       "scientist        36.0\n",
       "student          22.0\n",
       "technician       33.0\n",
       "writer           36.0\n",
       "Name: age, dtype: float64"
      ]
     },
     "execution_count": 21,
     "metadata": {},
     "output_type": "execute_result"
    }
   ],
   "source": [
    "users_occ_group = users.groupby('occupation').mean()\n",
    "round(users_occ_group['age'])"
   ]
  },
  {
   "cell_type": "code",
   "execution_count": 24,
   "metadata": {},
   "outputs": [
    {
     "data": {
      "text/plain": [
       "gender\n",
       "F    34.0\n",
       "M    34.0\n",
       "Name: age, dtype: float64"
      ]
     },
     "execution_count": 24,
     "metadata": {},
     "output_type": "execute_result"
    }
   ],
   "source": [
    "users_gender_group = users.groupby('gender').mean()\n",
    "round(users_gender_group['age'])"
   ]
  },
  {
   "cell_type": "markdown",
   "metadata": {},
   "source": [
    "### Step 8.  For each occupation present the percentage of women and men"
   ]
  },
  {
   "cell_type": "code",
   "execution_count": 37,
   "metadata": {},
   "outputs": [
    {
     "name": "stdout",
     "output_type": "stream",
     "text": [
      "Male percentage in occupations :\n",
      "\n",
      "  occupation\n",
      "administrator    54.430380\n",
      "artist           53.571429\n",
      "doctor                 NaN\n",
      "educator         72.631579\n",
      "engineer         97.014925\n",
      "entertainment    88.888889\n",
      "executive        90.625000\n",
      "healthcare       31.250000\n",
      "homemaker        14.285714\n",
      "lawyer           83.333333\n",
      "librarian        43.137255\n",
      "marketing        61.538462\n",
      "none             55.555556\n",
      "other            65.714286\n",
      "programmer       90.909091\n",
      "retired          92.857143\n",
      "salesman         75.000000\n",
      "scientist        90.322581\n",
      "student          69.387755\n",
      "technician       96.296296\n",
      "writer           57.777778\n",
      "Name: percentage, dtype: float64\n",
      "\n",
      "\n",
      "\n",
      "Female percentage in occupations :\n",
      "\n",
      "  occupation\n",
      "administrator    45.569620\n",
      "artist           46.428571\n",
      "doctor                 NaN\n",
      "educator         27.368421\n",
      "engineer          2.985075\n",
      "entertainment    11.111111\n",
      "executive         9.375000\n",
      "healthcare       68.750000\n",
      "homemaker        85.714286\n",
      "lawyer           16.666667\n",
      "librarian        56.862745\n",
      "marketing        38.461538\n",
      "none             44.444444\n",
      "other            34.285714\n",
      "programmer        9.090909\n",
      "retired           7.142857\n",
      "salesman         25.000000\n",
      "scientist         9.677419\n",
      "student          30.612245\n",
      "technician        3.703704\n",
      "writer           42.222222\n",
      "Name: percentage, dtype: float64\n"
     ]
    }
   ],
   "source": [
    "male = users[users['gender'] == 'M']\n",
    "female = users[users['gender'] == 'F']\n",
    "male_count = male.groupby('occupation').count()\n",
    "female_count = female.groupby('occupation').count()\n",
    "total_count = male_count + female_count\n",
    "male_percent = (male_count/total_count)*100\n",
    "male_percent['percentage'] = male_percent['user_id']\n",
    "female_percent = (female_count/total_count)*100\n",
    "female_percent['percentage'] = female_percent['user_id']\n",
    "\n",
    "print('Male percentage in occupations :\\n\\n ',male_percent['percentage'])\n",
    "print('\\n\\n')\n",
    "print('Female percentage in occupations :\\n\\n ',female_percent['percentage'])"
   ]
  },
  {
   "cell_type": "code",
   "execution_count": null,
   "metadata": {},
   "outputs": [],
   "source": []
  }
 ],
 "metadata": {
  "kernelspec": {
   "display_name": "Python 3",
   "language": "python",
   "name": "python3"
  },
  "language_info": {
   "codemirror_mode": {
    "name": "ipython",
    "version": 3
   },
   "file_extension": ".py",
   "mimetype": "text/x-python",
   "name": "python",
   "nbconvert_exporter": "python",
   "pygments_lexer": "ipython3",
   "version": "3.7.1"
  }
 },
 "nbformat": 4,
 "nbformat_minor": 1
}
